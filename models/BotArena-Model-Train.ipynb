{
 "cells": [
  {
   "cell_type": "code",
   "execution_count": 1,
   "id": "b1ba0bba",
   "metadata": {
    "_cell_guid": "b1076dfc-b9ad-4769-8c92-a6c4dae69d19",
    "_uuid": "8f2839f25d086af736a60e9eeb907d3b93b6e0e5",
    "execution": {
     "iopub.execute_input": "2025-02-25T04:39:14.416498Z",
     "iopub.status.busy": "2025-02-25T04:39:14.416238Z",
     "iopub.status.idle": "2025-02-25T04:39:19.814706Z",
     "shell.execute_reply": "2025-02-25T04:39:19.814067Z"
    },
    "papermill": {
     "duration": 5.406022,
     "end_time": "2025-02-25T04:39:19.816396",
     "exception": false,
     "start_time": "2025-02-25T04:39:14.410374",
     "status": "completed"
    },
    "tags": []
   },
   "outputs": [],
   "source": [
    "import numpy as np\n",
    "import pandas as pd\n",
    "import json\n",
    "import numpy as np\n",
    "import matplotlib.pyplot as plt\n",
    "\n",
    "\n",
    "import torch\n",
    "import torch.nn as nn\n",
    "import torch.optim as optim\n",
    "from torch.utils.data import DataLoader, TensorDataset\n",
    "from sklearn.preprocessing import MinMaxScaler\n",
    "from sklearn.model_selection import train_test_split\n",
    "import seaborn as sns\n",
    "\n",
    "\n",
    "np.random.seed(42)"
   ]
  },
  {
   "cell_type": "code",
   "execution_count": 2,
   "id": "c70466e3",
   "metadata": {
    "execution": {
     "iopub.execute_input": "2025-02-25T04:39:19.826289Z",
     "iopub.status.busy": "2025-02-25T04:39:19.825956Z",
     "iopub.status.idle": "2025-02-25T04:39:19.841173Z",
     "shell.execute_reply": "2025-02-25T04:39:19.840567Z"
    },
    "papermill": {
     "duration": 0.021189,
     "end_time": "2025-02-25T04:39:19.842432",
     "exception": false,
     "start_time": "2025-02-25T04:39:19.821243",
     "status": "completed"
    },
    "tags": []
   },
   "outputs": [],
   "source": [
    "datasetText = open('../input/browserfingerprint/v3.csv', 'r').read()\n",
    "datasetText = datasetText.replace('id,data\\n', '')"
   ]
  },
  {
   "cell_type": "markdown",
   "id": "b4b4f05b",
   "metadata": {
    "papermill": {
     "duration": 0.003899,
     "end_time": "2025-02-25T04:39:19.850375",
     "exception": false,
     "start_time": "2025-02-25T04:39:19.846476",
     "status": "completed"
    },
    "tags": []
   },
   "source": [
    "# Average Speed (avg_speed)\n",
    "The typical speed at which the mouse is moving.\n",
    "\n",
    "Compute the distance between each pair of consecutive points using the Euclidean distance formula:\n",
    "    \n",
    "    distance = √[(x₂ – x₁)² + (y₂ – y₁)²]\n",
    "\n",
    "Divide each distance by the fixed time interval (0.15 seconds) to obtain a speed for that segment:\n",
    "    \n",
    "    speed = distance / 0.15\n",
    "\n",
    "**Answer** = mean of all these speeds.\n",
    "\n",
    "# Acceleration (acceleration)\n",
    "How quickly the speed changes over time. It indicates whether the mouse is speeding up or slowing down.\n",
    "\n",
    "1. Take the sequence of speeds computed previously.\n",
    "2. For each consecutive pair of speeds, find the change in speed and divide by the time interval (0.15 seconds):\n",
    "   \n",
    "    acceleration for a segment = (speed₂ – speed₁) / 0.15\n",
    "\n",
    "**Answer** = mean of these acceleration values.\n",
    "\n",
    "# Jerk (jerk)\n",
    "Rate of acceleration changes. It describes how “smooth” or “jerky” the movement is.\n",
    "\n",
    "1. Calculate acceleration as described above.\n",
    "2. For each consecutive pair of acceleration values, compute the difference and divide by the time interval:\n",
    "   \n",
    "    jerk for a segment = (acceleration₂ – acceleration₁) / 0.15\n",
    "\n",
    "**Answer** = mean of these jerk values.\n",
    "\n",
    "# Curvature (curvature)\n",
    "How sharply the mouse’s path is turning. A higher curvature means the path is bending more sharply.\n",
    "\n",
    "1. For each pair of consecutive segments (which gives three consecutive points), compute the direction of movement (angle) using the arctan2 function on the differences in y and x coordinates.\n",
    "   - Unwrap the angles to avoid jumps (e.g., going from 359° to 0°).\n",
    "   - Compute the difference between consecutive angles to see how much the direction changes as you move from one segment to the next.\n",
    "   - For each change, divide the absolute difference in angle by the average of the two segment distances (i.e., (d₁ + d₂)⁄2). This gives a curvature value per turn.\n",
    "   - Finally, take the mean of all these curvature values to get an overall average curvature.\n",
    "\n",
    "# Straightness (straightness)\n",
    "How directly the mouse moves from the start to the end of its trajectory.\n",
    "\n",
    "1. Compute the total path length by summing all the distances between consecutive points.\n",
    "2. Calculate the straight-line (Euclidean) distance between the starting point and the ending point.\n",
    "3. Divide the total path length by the straight-line distance.\n",
    "4. A value close to 1 indicates that the movement is nearly a straight line; larger values indicate more winding or indirect paths.\n",
    "\n",
    "# Jitter (jitter)\n",
    "Variability in movement. It captures how inconsistent or “noisy” the distances between consecutive points are.\n",
    "\n",
    "1. First, compute all the distances between consecutive points as described for average speed.\n",
    "2. Then, calculate the standard deviation of these distances, which shows how much they vary from their average value.\n",
    "\n",
    "# Direction Changes (direction_changes)\n",
    "Counts the number of times the mouse makes a significant change in its moving direction.\n",
    "\n",
    "1. Calculate the movement angle for each segment (using arctan2 on the differences in y and x).\n",
    "2. Determine the difference between consecutive angles (after “unwrapping” to avoid sudden jumps).\n",
    "3. Count the number of instances where the absolute change in angle is greater than 45° (which is π/4 radians)."
   ]
  },
  {
   "cell_type": "code",
   "execution_count": 3,
   "id": "4792d127",
   "metadata": {
    "execution": {
     "iopub.execute_input": "2025-02-25T04:39:19.859273Z",
     "iopub.status.busy": "2025-02-25T04:39:19.859055Z",
     "iopub.status.idle": "2025-02-25T04:39:20.015996Z",
     "shell.execute_reply": "2025-02-25T04:39:20.015083Z"
    },
    "papermill": {
     "duration": 0.1629,
     "end_time": "2025-02-25T04:39:20.017319",
     "exception": false,
     "start_time": "2025-02-25T04:39:19.854419",
     "status": "completed"
    },
    "tags": []
   },
   "outputs": [
    {
     "name": "stdout",
     "output_type": "stream",
     "text": [
      "500\n"
     ]
    }
   ],
   "source": [
    "datasetTextRows = datasetText.split('\\n')\n",
    "print(len(datasetTextRows))\n",
    "datasetList = []\n",
    "\n",
    "for line in datasetTextRows:\n",
    "    if(line != \"\"):\n",
    "        newFormatLine = '{\"' + line.split(',{\"')[1]\n",
    "        \n",
    "        parsed = json.loads(newFormatLine)\n",
    "        datasetList.append(parsed)\n",
    "\n",
    "\n",
    "\n",
    "df = pd.DataFrame(datasetList)\n",
    "\n",
    "for index, row in df.iterrows():\n",
    "    dataSplit = row['sensorData'].split(';')[1:len(row['sensorData'].split(';')) - 1]\n",
    "    df.at[index, 'sensorData'] = dataSplit\n",
    "\n",
    "df = df[df['sensorData'].map(lambda x: len(x) > 4)]\n",
    "df.reset_index(drop=True, inplace=True)\n",
    "\n",
    "\n",
    "for index, row in df.iterrows():\n",
    "    sensorData = row['sensorData']\n",
    "    totalMousePoints = 0\n",
    "    \n",
    "    x_coords = []\n",
    "    y_coords = []\n",
    "    \n",
    "    for data in sensorData:\n",
    "        if 'scroll' in data:\n",
    "            pass\n",
    "        elif 'click' in data:\n",
    "            pass\n",
    "        elif 'key' in data:\n",
    "            pass\n",
    "        else:\n",
    "            try:\n",
    "                mouseAtX, mouseAtY = data.split('-')\n",
    "                x_coords.append(int(mouseAtX))\n",
    "                y_coords.append(int(mouseAtY))\n",
    "                totalMousePoints += 1\n",
    "            except ValueError:\n",
    "                continue\n",
    "\n",
    "    df.at[index, 'totalMousePoints'] = totalMousePoints\n",
    "    df.at[index, 'x_coords'] = json.dumps(x_coords)\n",
    "    df.at[index, 'y_coords'] = json.dumps(y_coords)\n",
    "\n",
    "\n",
    "\n",
    "TIME_INTERVAL = 0.15  # seconds\n",
    "\n",
    "def compute_curvature(x_coords, y_coords, time_interval=0.15):\n",
    "    x_coords = np.array(x_coords, dtype=float)\n",
    "    y_coords = np.array(y_coords, dtype=float)\n",
    "        \n",
    "    dx = np.diff(x_coords)\n",
    "    dy = np.diff(y_coords)\n",
    "        \n",
    "    distances = np.sqrt(dx ** 2 + dy ** 2)\n",
    "    angles = np.arctan2(dy, dx)\n",
    "    angles = np.unwrap(angles)\n",
    "    delta_angles = np.diff(angles)\n",
    "\n",
    "    if len(distances) < 2:\n",
    "        return 0\n",
    "        \n",
    "    avg_lengths = (distances[:-1] + distances[1:]) / 2.0 + 1e-6\n",
    "        \n",
    "    curvatures = np.abs(delta_angles) / avg_lengths\n",
    "        \n",
    "    mean_curvature = np.mean(curvatures)\n",
    "        \n",
    "    return mean_curvature\n",
    "\n",
    "def calculate_features(df):\n",
    "    new_features = {\n",
    "        \"path_length\": [],\n",
    "        \"avg_speed\": [],\n",
    "        \"acceleration\": [],\n",
    "        \"jerk\": [],\n",
    "        \"curvature\": [],\n",
    "        \"straightness\": [],\n",
    "        \"idle_time_count\": [],\n",
    "        \"jitter\": [],\n",
    "        \"direction_changes\": []\n",
    "    }\n",
    "\n",
    "    for index, row in df.iterrows():\n",
    "        x_coords = np.array(json.loads(row['x_coords']))\n",
    "        y_coords = np.array(json.loads(row['y_coords']))\n",
    "\n",
    "        if len(x_coords) < 2:\n",
    "            for key in new_features:\n",
    "                new_features[key].append(0)\n",
    "            continue\n",
    "\n",
    "        distances = np.sqrt(np.diff(x_coords) ** 2 + np.diff(y_coords) ** 2)\n",
    "        total_distance = np.sum(distances)\n",
    "\n",
    "        speeds = distances / TIME_INTERVAL  # speed in pixels per second\n",
    "        avg_speed = np.mean(speeds) if len(speeds) > 0 else 0\n",
    "\n",
    "        accelerations = np.diff(speeds) / TIME_INTERVAL  # acceleration in pixels per second^2\n",
    "        avg_acceleration = np.mean(accelerations) if len(accelerations) > 0 else 0\n",
    "\n",
    "        jerks = np.diff(accelerations) / TIME_INTERVAL  # jerk in pixels per second^3\n",
    "        avg_jerk = np.mean(jerks) if len(jerks) > 0 else 0\n",
    "\n",
    "        curvature = compute_curvature(x_coords, y_coords, TIME_INTERVAL)\n",
    "            \n",
    "\n",
    "        straight_line_distance = np.linalg.norm([x_coords[-1] - x_coords[0], y_coords[-1] - y_coords[0]])\n",
    "        straightness = total_distance / (straight_line_distance + 1e-6)  # Avoid division by zero\n",
    "\n",
    "        idle_time_count = np.sum((x_coords[:-1] == x_coords[1:]) & (y_coords[:-1] == y_coords[1:]))\n",
    "\n",
    "        jitter = np.std(distances) if len(distances) > 1 else 0\n",
    "\n",
    "        angles = np.arctan2(np.diff(y_coords), np.diff(x_coords))\n",
    "        angles = np.unwrap(angles)\n",
    "        direction_changes = np.sum(np.abs(np.diff(angles)) > np.pi / 4)  # Count large direction changes\n",
    "\n",
    "        # Store values\n",
    "        new_features[\"path_length\"].append(total_distance)\n",
    "        new_features[\"avg_speed\"].append(avg_speed)\n",
    "        new_features[\"acceleration\"].append(avg_acceleration)\n",
    "        new_features[\"jerk\"].append(avg_jerk)\n",
    "        new_features[\"curvature\"].append(curvature)\n",
    "        new_features[\"straightness\"].append(straightness)\n",
    "        new_features[\"idle_time_count\"].append(idle_time_count)\n",
    "        new_features[\"jitter\"].append(jitter)\n",
    "        new_features[\"direction_changes\"].append(direction_changes)\n",
    "\n",
    "    # Add new columns to DataFrame\n",
    "    for key, values in new_features.items():\n",
    "        df[key] = values\n",
    "\n",
    "    return df"
   ]
  },
  {
   "cell_type": "code",
   "execution_count": 4,
   "id": "b1f66923",
   "metadata": {
    "execution": {
     "iopub.execute_input": "2025-02-25T04:39:20.026376Z",
     "iopub.status.busy": "2025-02-25T04:39:20.026136Z",
     "iopub.status.idle": "2025-02-25T04:39:20.239183Z",
     "shell.execute_reply": "2025-02-25T04:39:20.238487Z"
    },
    "papermill": {
     "duration": 0.219175,
     "end_time": "2025-02-25T04:39:20.240642",
     "exception": false,
     "start_time": "2025-02-25T04:39:20.021467",
     "status": "completed"
    },
    "tags": []
   },
   "outputs": [],
   "source": [
    "df.drop(columns=['userAgent', 'language', 'platform', \n",
    "                    'deviceMemory', 'doNotTrack', \n",
    "                   'screenResolution', 'colorDepth', 'plugins', \n",
    "                 'mimeTypes', 'timezoneOffset',\n",
    "                'hardwareConcurrency', 'touchSupport', 'webdriver', 'viewportWidth', 'viewportHeight', 'sensorData'], inplace=True)\n",
    "\n",
    "df = df[df['totalMousePoints'] >= 2]\n",
    "\n",
    "df = df.reset_index(drop=True)\n",
    "\n",
    "df = calculate_features(df)\n",
    "\n",
    "# df = df[df['curvature'] >= 0.08]\n",
    "\n",
    "df.drop(columns=['idle_time_count', 'x_coords', 'y_coords', 'path_length'], inplace=True)\n",
    "\n",
    "df = df.drop(columns=[\"totalMousePoints\"])\n",
    "\n",
    "df = df.reset_index(drop=True)"
   ]
  },
  {
   "cell_type": "code",
   "execution_count": 5,
   "id": "22e50f75",
   "metadata": {
    "execution": {
     "iopub.execute_input": "2025-02-25T04:39:20.250012Z",
     "iopub.status.busy": "2025-02-25T04:39:20.249748Z",
     "iopub.status.idle": "2025-02-25T04:39:20.267097Z",
     "shell.execute_reply": "2025-02-25T04:39:20.266374Z"
    },
    "papermill": {
     "duration": 0.023428,
     "end_time": "2025-02-25T04:39:20.268433",
     "exception": false,
     "start_time": "2025-02-25T04:39:20.245005",
     "status": "completed"
    },
    "tags": []
   },
   "outputs": [
    {
     "data": {
      "text/html": [
       "<div>\n",
       "<style scoped>\n",
       "    .dataframe tbody tr th:only-of-type {\n",
       "        vertical-align: middle;\n",
       "    }\n",
       "\n",
       "    .dataframe tbody tr th {\n",
       "        vertical-align: top;\n",
       "    }\n",
       "\n",
       "    .dataframe thead th {\n",
       "        text-align: right;\n",
       "    }\n",
       "</style>\n",
       "<table border=\"1\" class=\"dataframe\">\n",
       "  <thead>\n",
       "    <tr style=\"text-align: right;\">\n",
       "      <th></th>\n",
       "      <th>avg_speed</th>\n",
       "      <th>acceleration</th>\n",
       "      <th>jerk</th>\n",
       "      <th>curvature</th>\n",
       "      <th>straightness</th>\n",
       "      <th>jitter</th>\n",
       "      <th>direction_changes</th>\n",
       "    </tr>\n",
       "  </thead>\n",
       "  <tbody>\n",
       "    <tr>\n",
       "      <th>0</th>\n",
       "      <td>145.224903</td>\n",
       "      <td>-1.082483e+01</td>\n",
       "      <td>-52.902900</td>\n",
       "      <td>0.071230</td>\n",
       "      <td>1.206260</td>\n",
       "      <td>25.856432</td>\n",
       "      <td>1</td>\n",
       "    </tr>\n",
       "    <tr>\n",
       "      <th>1</th>\n",
       "      <td>50.486546</td>\n",
       "      <td>-4.454495e-01</td>\n",
       "      <td>-27.966524</td>\n",
       "      <td>0.129407</td>\n",
       "      <td>1.185958</td>\n",
       "      <td>10.032445</td>\n",
       "      <td>4</td>\n",
       "    </tr>\n",
       "    <tr>\n",
       "      <th>2</th>\n",
       "      <td>57.789384</td>\n",
       "      <td>1.846896e+00</td>\n",
       "      <td>12.598981</td>\n",
       "      <td>0.055746</td>\n",
       "      <td>1.017386</td>\n",
       "      <td>7.588942</td>\n",
       "      <td>0</td>\n",
       "    </tr>\n",
       "    <tr>\n",
       "      <th>3</th>\n",
       "      <td>111.853120</td>\n",
       "      <td>-1.780130e+01</td>\n",
       "      <td>-26.337167</td>\n",
       "      <td>0.015053</td>\n",
       "      <td>1.027440</td>\n",
       "      <td>10.035863</td>\n",
       "      <td>1</td>\n",
       "    </tr>\n",
       "    <tr>\n",
       "      <th>4</th>\n",
       "      <td>102.069400</td>\n",
       "      <td>1.011985e-14</td>\n",
       "      <td>9.259259</td>\n",
       "      <td>0.018427</td>\n",
       "      <td>1.038153</td>\n",
       "      <td>15.576288</td>\n",
       "      <td>0</td>\n",
       "    </tr>\n",
       "    <tr>\n",
       "      <th>...</th>\n",
       "      <td>...</td>\n",
       "      <td>...</td>\n",
       "      <td>...</td>\n",
       "      <td>...</td>\n",
       "      <td>...</td>\n",
       "      <td>...</td>\n",
       "      <td>...</td>\n",
       "    </tr>\n",
       "    <tr>\n",
       "      <th>495</th>\n",
       "      <td>34.363565</td>\n",
       "      <td>2.057237e-01</td>\n",
       "      <td>3.471327</td>\n",
       "      <td>0.196513</td>\n",
       "      <td>1.686794</td>\n",
       "      <td>4.645925</td>\n",
       "      <td>3</td>\n",
       "    </tr>\n",
       "    <tr>\n",
       "      <th>496</th>\n",
       "      <td>34.648574</td>\n",
       "      <td>-4.753566e+00</td>\n",
       "      <td>18.938798</td>\n",
       "      <td>0.131589</td>\n",
       "      <td>2.611069</td>\n",
       "      <td>3.874536</td>\n",
       "      <td>4</td>\n",
       "    </tr>\n",
       "    <tr>\n",
       "      <th>497</th>\n",
       "      <td>46.619860</td>\n",
       "      <td>-5.465560e+00</td>\n",
       "      <td>21.879860</td>\n",
       "      <td>0.031274</td>\n",
       "      <td>1.144504</td>\n",
       "      <td>6.211892</td>\n",
       "      <td>0</td>\n",
       "    </tr>\n",
       "    <tr>\n",
       "      <th>498</th>\n",
       "      <td>24.646180</td>\n",
       "      <td>-9.456265e-01</td>\n",
       "      <td>-1.520567</td>\n",
       "      <td>0.056970</td>\n",
       "      <td>1.527381</td>\n",
       "      <td>2.730885</td>\n",
       "      <td>0</td>\n",
       "    </tr>\n",
       "    <tr>\n",
       "      <th>499</th>\n",
       "      <td>113.943697</td>\n",
       "      <td>-1.805552e+01</td>\n",
       "      <td>32.836419</td>\n",
       "      <td>0.055529</td>\n",
       "      <td>1.014700</td>\n",
       "      <td>8.656292</td>\n",
       "      <td>1</td>\n",
       "    </tr>\n",
       "  </tbody>\n",
       "</table>\n",
       "<p>500 rows × 7 columns</p>\n",
       "</div>"
      ],
      "text/plain": [
       "      avg_speed  acceleration       jerk  curvature  straightness     jitter  \\\n",
       "0    145.224903 -1.082483e+01 -52.902900   0.071230      1.206260  25.856432   \n",
       "1     50.486546 -4.454495e-01 -27.966524   0.129407      1.185958  10.032445   \n",
       "2     57.789384  1.846896e+00  12.598981   0.055746      1.017386   7.588942   \n",
       "3    111.853120 -1.780130e+01 -26.337167   0.015053      1.027440  10.035863   \n",
       "4    102.069400  1.011985e-14   9.259259   0.018427      1.038153  15.576288   \n",
       "..          ...           ...        ...        ...           ...        ...   \n",
       "495   34.363565  2.057237e-01   3.471327   0.196513      1.686794   4.645925   \n",
       "496   34.648574 -4.753566e+00  18.938798   0.131589      2.611069   3.874536   \n",
       "497   46.619860 -5.465560e+00  21.879860   0.031274      1.144504   6.211892   \n",
       "498   24.646180 -9.456265e-01  -1.520567   0.056970      1.527381   2.730885   \n",
       "499  113.943697 -1.805552e+01  32.836419   0.055529      1.014700   8.656292   \n",
       "\n",
       "     direction_changes  \n",
       "0                    1  \n",
       "1                    4  \n",
       "2                    0  \n",
       "3                    1  \n",
       "4                    0  \n",
       "..                 ...  \n",
       "495                  3  \n",
       "496                  4  \n",
       "497                  0  \n",
       "498                  0  \n",
       "499                  1  \n",
       "\n",
       "[500 rows x 7 columns]"
      ]
     },
     "execution_count": 5,
     "metadata": {},
     "output_type": "execute_result"
    }
   ],
   "source": [
    "df"
   ]
  },
  {
   "cell_type": "code",
   "execution_count": 6,
   "id": "5e96788d",
   "metadata": {
    "execution": {
     "iopub.execute_input": "2025-02-25T04:39:20.279349Z",
     "iopub.status.busy": "2025-02-25T04:39:20.279135Z",
     "iopub.status.idle": "2025-02-25T04:39:20.282072Z",
     "shell.execute_reply": "2025-02-25T04:39:20.281426Z"
    },
    "papermill": {
     "duration": 0.010021,
     "end_time": "2025-02-25T04:39:20.283295",
     "exception": false,
     "start_time": "2025-02-25T04:39:20.273274",
     "status": "completed"
    },
    "tags": []
   },
   "outputs": [],
   "source": [
    "data = df.values"
   ]
  },
  {
   "cell_type": "code",
   "execution_count": 7,
   "id": "2c675b84",
   "metadata": {
    "execution": {
     "iopub.execute_input": "2025-02-25T04:39:20.293062Z",
     "iopub.status.busy": "2025-02-25T04:39:20.292778Z",
     "iopub.status.idle": "2025-02-25T04:39:20.325173Z",
     "shell.execute_reply": "2025-02-25T04:39:20.324507Z"
    },
    "papermill": {
     "duration": 0.038668,
     "end_time": "2025-02-25T04:39:20.326437",
     "exception": false,
     "start_time": "2025-02-25T04:39:20.287769",
     "status": "completed"
    },
    "tags": []
   },
   "outputs": [],
   "source": [
    "# Normalize data (Min-Max Scaling)\n",
    "scaler = MinMaxScaler()\n",
    "data_scaled = scaler.fit_transform(data)\n",
    "\n",
    "# Split into train/test sets\n",
    "X_train, X_test = train_test_split(data_scaled, test_size=0.2, random_state=42)\n",
    "\n",
    "# Convert to PyTorch tensors\n",
    "X_train_tensor = torch.tensor(X_train, dtype=torch.float32)\n",
    "X_test_tensor = torch.tensor(X_test, dtype=torch.float32)\n",
    "\n",
    "train_loader = DataLoader(TensorDataset(X_train_tensor), batch_size=32, shuffle=True)\n",
    "test_loader = DataLoader(TensorDataset(X_test_tensor), batch_size=32, shuffle=False)"
   ]
  },
  {
   "cell_type": "code",
   "execution_count": 8,
   "id": "9075621f",
   "metadata": {
    "execution": {
     "iopub.execute_input": "2025-02-25T04:39:20.335917Z",
     "iopub.status.busy": "2025-02-25T04:39:20.335656Z",
     "iopub.status.idle": "2025-02-25T04:39:20.340260Z",
     "shell.execute_reply": "2025-02-25T04:39:20.339482Z"
    },
    "papermill": {
     "duration": 0.010644,
     "end_time": "2025-02-25T04:39:20.341528",
     "exception": false,
     "start_time": "2025-02-25T04:39:20.330884",
     "status": "completed"
    },
    "tags": []
   },
   "outputs": [],
   "source": [
    "class Autoencoder(nn.Module):\n",
    "    def __init__(self, input_dim):\n",
    "        super(Autoencoder, self).__init__()\n",
    "        self.encoder = nn.Sequential(\n",
    "            nn.Linear(input_dim, 16),\n",
    "            nn.ReLU(),\n",
    "            nn.Linear(16, 8),\n",
    "            nn.ReLU(),\n",
    "            nn.Linear(8, 4)\n",
    "        )\n",
    "        self.decoder = nn.Sequential(\n",
    "            nn.Linear(4, 8),\n",
    "            nn.ReLU(),\n",
    "            nn.Linear(8, 16),\n",
    "            nn.ReLU(),\n",
    "            nn.Linear(16, input_dim)\n",
    "        )\n",
    "    \n",
    "    def forward(self, x):\n",
    "        encoded = self.encoder(x)\n",
    "        decoded = self.decoder(encoded)\n",
    "        return decoded"
   ]
  },
  {
   "cell_type": "code",
   "execution_count": 9,
   "id": "0c1108cb",
   "metadata": {
    "execution": {
     "iopub.execute_input": "2025-02-25T04:39:20.351059Z",
     "iopub.status.busy": "2025-02-25T04:39:20.350800Z",
     "iopub.status.idle": "2025-02-25T04:39:23.939911Z",
     "shell.execute_reply": "2025-02-25T04:39:23.939255Z"
    },
    "papermill": {
     "duration": 3.595511,
     "end_time": "2025-02-25T04:39:23.941434",
     "exception": false,
     "start_time": "2025-02-25T04:39:20.345923",
     "status": "completed"
    },
    "tags": []
   },
   "outputs": [],
   "source": [
    "input_dim = X_train.shape[1]\n",
    "model = Autoencoder(input_dim)\n",
    "criterion = nn.MSELoss()\n",
    "optimizer = optim.Adam(model.parameters(), lr=0.001)"
   ]
  },
  {
   "cell_type": "code",
   "execution_count": 10,
   "id": "25728a06",
   "metadata": {
    "execution": {
     "iopub.execute_input": "2025-02-25T04:39:23.951759Z",
     "iopub.status.busy": "2025-02-25T04:39:23.951384Z",
     "iopub.status.idle": "2025-02-25T04:39:23.954624Z",
     "shell.execute_reply": "2025-02-25T04:39:23.954039Z"
    },
    "papermill": {
     "duration": 0.009719,
     "end_time": "2025-02-25T04:39:23.955945",
     "exception": false,
     "start_time": "2025-02-25T04:39:23.946226",
     "status": "completed"
    },
    "tags": []
   },
   "outputs": [],
   "source": [
    "best_loss = float('inf')\n",
    "patience = 5\n",
    "patience_counter = 0\n",
    "\n",
    "num_epochs = 1000\n",
    "train_losses = []"
   ]
  },
  {
   "cell_type": "code",
   "execution_count": 11,
   "id": "d598733d",
   "metadata": {
    "execution": {
     "iopub.execute_input": "2025-02-25T04:39:23.965466Z",
     "iopub.status.busy": "2025-02-25T04:39:23.965255Z",
     "iopub.status.idle": "2025-02-25T04:39:26.466684Z",
     "shell.execute_reply": "2025-02-25T04:39:26.465693Z"
    },
    "papermill": {
     "duration": 2.507893,
     "end_time": "2025-02-25T04:39:26.468277",
     "exception": false,
     "start_time": "2025-02-25T04:39:23.960384",
     "status": "completed"
    },
    "tags": []
   },
   "outputs": [
    {
     "name": "stdout",
     "output_type": "stream",
     "text": [
      "Epoch 1, Loss: 0.151010\n",
      "Epoch 2, Loss: 0.108592\n",
      "Epoch 3, Loss: 0.071235\n",
      "Epoch 4, Loss: 0.043332\n",
      "Epoch 5, Loss: 0.028037\n",
      "Epoch 6, Loss: 0.023709\n",
      "Epoch 7, Loss: 0.021087\n",
      "Epoch 8, Loss: 0.020945\n",
      "Epoch 9, Loss: 0.020564\n",
      "Epoch 10, Loss: 0.020800\n",
      "Epoch 11, Loss: 0.020539\n",
      "Epoch 12, Loss: 0.020164\n",
      "Epoch 13, Loss: 0.020062\n",
      "Epoch 14, Loss: 0.020247\n",
      "Epoch 15, Loss: 0.019798\n",
      "Epoch 16, Loss: 0.019623\n",
      "Epoch 17, Loss: 0.018978\n",
      "Epoch 18, Loss: 0.018422\n",
      "Epoch 19, Loss: 0.017971\n",
      "Epoch 20, Loss: 0.016864\n",
      "Epoch 21, Loss: 0.016145\n",
      "Epoch 22, Loss: 0.014916\n",
      "Epoch 23, Loss: 0.014278\n",
      "Epoch 24, Loss: 0.012993\n",
      "Epoch 25, Loss: 0.012231\n",
      "Epoch 26, Loss: 0.011789\n",
      "Epoch 27, Loss: 0.011609\n",
      "Epoch 28, Loss: 0.011269\n",
      "Epoch 29, Loss: 0.011236\n",
      "Epoch 30, Loss: 0.010763\n",
      "Epoch 31, Loss: 0.010590\n",
      "Epoch 32, Loss: 0.010545\n",
      "Epoch 33, Loss: 0.010402\n",
      "Epoch 34, Loss: 0.010364\n",
      "Epoch 35, Loss: 0.009981\n",
      "Epoch 36, Loss: 0.009877\n",
      "Epoch 37, Loss: 0.009740\n",
      "Epoch 38, Loss: 0.009548\n",
      "Epoch 39, Loss: 0.009399\n",
      "Epoch 40, Loss: 0.009128\n",
      "Epoch 41, Loss: 0.008849\n",
      "Epoch 42, Loss: 0.008650\n",
      "Epoch 43, Loss: 0.008495\n",
      "Epoch 44, Loss: 0.008000\n",
      "Epoch 45, Loss: 0.007374\n",
      "Epoch 46, Loss: 0.006800\n",
      "Epoch 47, Loss: 0.006252\n",
      "Epoch 48, Loss: 0.005829\n",
      "Epoch 49, Loss: 0.005270\n",
      "Epoch 50, Loss: 0.004964\n",
      "Epoch 51, Loss: 0.004734\n",
      "Epoch 52, Loss: 0.004388\n",
      "Epoch 53, Loss: 0.004399\n",
      "Epoch 54, Loss: 0.004275\n",
      "Epoch 55, Loss: 0.004387\n",
      "Epoch 56, Loss: 0.004311\n",
      "Epoch 57, Loss: 0.004375\n",
      "Epoch 58, Loss: 0.004085\n",
      "Epoch 59, Loss: 0.004051\n",
      "Epoch 60, Loss: 0.004161\n",
      "Epoch 61, Loss: 0.004021\n",
      "Epoch 62, Loss: 0.004167\n",
      "Epoch 63, Loss: 0.004134\n",
      "Epoch 64, Loss: 0.003999\n",
      "Epoch 65, Loss: 0.004074\n",
      "Epoch 66, Loss: 0.004201\n",
      "Epoch 67, Loss: 0.003993\n",
      "Epoch 68, Loss: 0.004014\n",
      "Epoch 69, Loss: 0.003922\n",
      "Epoch 70, Loss: 0.003927\n",
      "Epoch 71, Loss: 0.003918\n",
      "Epoch 72, Loss: 0.003923\n",
      "Epoch 73, Loss: 0.004025\n",
      "Epoch 74, Loss: 0.004057\n",
      "Epoch 75, Loss: 0.004001\n",
      "Epoch 76, Loss: 0.003874\n",
      "Epoch 77, Loss: 0.003928\n",
      "Epoch 78, Loss: 0.003880\n",
      "Epoch 79, Loss: 0.003888\n",
      "Epoch 80, Loss: 0.003885\n",
      "Epoch 81, Loss: 0.003934\n",
      "Early stopping triggered!\n"
     ]
    }
   ],
   "source": [
    "for epoch in range(num_epochs):\n",
    "    model.train()\n",
    "    epoch_loss = 0\n",
    "    for batch in train_loader:\n",
    "        data_batch = batch[0]\n",
    "        optimizer.zero_grad()\n",
    "        reconstructed = model(data_batch)\n",
    "        loss = criterion(reconstructed, data_batch)\n",
    "        loss.backward()\n",
    "        optimizer.step()\n",
    "        epoch_loss += loss.item()\n",
    "    \n",
    "    epoch_loss /= len(train_loader)\n",
    "    train_losses.append(epoch_loss)\n",
    "    print(f\"Epoch {epoch+1}, Loss: {epoch_loss:.6f}\")\n",
    "\n",
    "    # Early Stopping\n",
    "    if epoch_loss < best_loss:\n",
    "        best_loss = epoch_loss\n",
    "        patience_counter = 0\n",
    "        torch.save(model.state_dict(), \"best_model.pth\")  # Save best model\n",
    "    else:\n",
    "        patience_counter += 1\n",
    "        if patience_counter >= patience:\n",
    "            print(\"Early stopping triggered!\")\n",
    "            break"
   ]
  },
  {
   "cell_type": "code",
   "execution_count": 12,
   "id": "e76a466b",
   "metadata": {
    "execution": {
     "iopub.execute_input": "2025-02-25T04:39:26.479405Z",
     "iopub.status.busy": "2025-02-25T04:39:26.479168Z",
     "iopub.status.idle": "2025-02-25T04:39:26.486345Z",
     "shell.execute_reply": "2025-02-25T04:39:26.485420Z"
    },
    "papermill": {
     "duration": 0.01412,
     "end_time": "2025-02-25T04:39:26.487638",
     "exception": false,
     "start_time": "2025-02-25T04:39:26.473518",
     "status": "completed"
    },
    "tags": []
   },
   "outputs": [
    {
     "name": "stderr",
     "output_type": "stream",
     "text": [
      "<ipython-input-12-a740a4a6563e>:2: FutureWarning: You are using `torch.load` with `weights_only=False` (the current default value), which uses the default pickle module implicitly. It is possible to construct malicious pickle data which will execute arbitrary code during unpickling (See https://github.com/pytorch/pytorch/blob/main/SECURITY.md#untrusted-models for more details). In a future release, the default value for `weights_only` will be flipped to `True`. This limits the functions that could be executed during unpickling. Arbitrary objects will no longer be allowed to be loaded via this mode unless they are explicitly allowlisted by the user via `torch.serialization.add_safe_globals`. We recommend you start setting `weights_only=True` for any use case where you don't have full control of the loaded file. Please open an issue on GitHub for any issues related to this experimental feature.\n",
      "  model.load_state_dict(torch.load(\"best_model.pth\"))\n"
     ]
    },
    {
     "data": {
      "text/plain": [
       "Autoencoder(\n",
       "  (encoder): Sequential(\n",
       "    (0): Linear(in_features=7, out_features=16, bias=True)\n",
       "    (1): ReLU()\n",
       "    (2): Linear(in_features=16, out_features=8, bias=True)\n",
       "    (3): ReLU()\n",
       "    (4): Linear(in_features=8, out_features=4, bias=True)\n",
       "  )\n",
       "  (decoder): Sequential(\n",
       "    (0): Linear(in_features=4, out_features=8, bias=True)\n",
       "    (1): ReLU()\n",
       "    (2): Linear(in_features=8, out_features=16, bias=True)\n",
       "    (3): ReLU()\n",
       "    (4): Linear(in_features=16, out_features=7, bias=True)\n",
       "  )\n",
       ")"
      ]
     },
     "execution_count": 12,
     "metadata": {},
     "output_type": "execute_result"
    }
   ],
   "source": [
    "# Load the best model\n",
    "model.load_state_dict(torch.load(\"best_model.pth\"))\n",
    "model.eval()"
   ]
  },
  {
   "cell_type": "code",
   "execution_count": 13,
   "id": "905a0eeb",
   "metadata": {
    "execution": {
     "iopub.execute_input": "2025-02-25T04:39:26.498819Z",
     "iopub.status.busy": "2025-02-25T04:39:26.498597Z",
     "iopub.status.idle": "2025-02-25T04:39:26.515531Z",
     "shell.execute_reply": "2025-02-25T04:39:26.514902Z"
    },
    "papermill": {
     "duration": 0.023918,
     "end_time": "2025-02-25T04:39:26.516817",
     "exception": false,
     "start_time": "2025-02-25T04:39:26.492899",
     "status": "completed"
    },
    "tags": []
   },
   "outputs": [],
   "source": [
    "# Compute reconstruction error on test set\n",
    "reconstruction_errors = []\n",
    "with torch.no_grad():\n",
    "    train_reconstruction_errors = []\n",
    "    for batch in train_loader:\n",
    "        data_batch = batch[0]\n",
    "        reconstructed = model(data_batch)\n",
    "        loss = torch.mean((data_batch - reconstructed) ** 2, dim=1)\n",
    "        train_reconstruction_errors.extend(loss.numpy())\n",
    "        reconstruction_errors.extend(loss.numpy())\n",
    "\n",
    "min_error = np.min(train_reconstruction_errors)\n",
    "\n",
    "threshold = np.percentile(reconstruction_errors, 95)"
   ]
  },
  {
   "cell_type": "code",
   "execution_count": 14,
   "id": "22dcd392",
   "metadata": {
    "execution": {
     "iopub.execute_input": "2025-02-25T04:39:26.527919Z",
     "iopub.status.busy": "2025-02-25T04:39:26.527682Z",
     "iopub.status.idle": "2025-02-25T04:39:26.536071Z",
     "shell.execute_reply": "2025-02-25T04:39:26.535309Z"
    },
    "papermill": {
     "duration": 0.015425,
     "end_time": "2025-02-25T04:39:26.537436",
     "exception": false,
     "start_time": "2025-02-25T04:39:26.522011",
     "status": "completed"
    },
    "tags": []
   },
   "outputs": [
    {
     "data": {
      "text/plain": [
       "24.46052942912814"
      ]
     },
     "execution_count": 14,
     "metadata": {},
     "output_type": "execute_result"
    }
   ],
   "source": [
    "# --- Function to Detect Anomalies with Confidence Score ---\n",
    "def detect_anomaly(new_data):\n",
    "    new_data_scaled = scaler.transform(new_data.reshape(1, -1))\n",
    "    new_data_tensor = torch.tensor(new_data_scaled, dtype=torch.float32)\n",
    "    \n",
    "    with torch.no_grad():\n",
    "        reconstructed = model(new_data_tensor)\n",
    "        loss = torch.mean((new_data_tensor - reconstructed) ** 2).item()\n",
    "    \n",
    "    # Normalize error into a 0-100% confidence score\n",
    "    confidence = 100 * (1 - (loss - min_error) / (threshold - min_error))\n",
    "    confidence = np.clip(confidence, 0, 100)  # Ensure it's between 0-100%\n",
    "\n",
    "    return confidence\n",
    "\n",
    "    # print(f\"Reconstruction Error: {loss:.6f}\")\n",
    "    # print(f\"Confidence Score: {confidence:.2f}%\")\n",
    "\n",
    "    # if confidence >= 50:\n",
    "    #     print(\"✅ Likely a Human Movement.\")\n",
    "    # else:\n",
    "    #     print(\"🚨 Likely a Bot!\")\n",
    "\n",
    "# Example: Test a custom sample\n",
    "sample_data = df.iloc[0].values  # Take a random row from the dataset\n",
    "detect_anomaly(sample_data)"
   ]
  },
  {
   "cell_type": "code",
   "execution_count": 15,
   "id": "474eda2a",
   "metadata": {
    "execution": {
     "iopub.execute_input": "2025-02-25T04:39:26.549595Z",
     "iopub.status.busy": "2025-02-25T04:39:26.549364Z",
     "iopub.status.idle": "2025-02-25T04:39:26.553555Z",
     "shell.execute_reply": "2025-02-25T04:39:26.552899Z"
    },
    "papermill": {
     "duration": 0.011903,
     "end_time": "2025-02-25T04:39:26.554715",
     "exception": false,
     "start_time": "2025-02-25T04:39:26.542812",
     "status": "completed"
    },
    "tags": []
   },
   "outputs": [
    {
     "data": {
      "text/plain": [
       "array([ 1.45224903e+02, -1.08248304e+01, -5.29029003e+01,  7.12304374e-02,\n",
       "        1.20626020e+00,  2.58564320e+01,  1.00000000e+00])"
      ]
     },
     "execution_count": 15,
     "metadata": {},
     "output_type": "execute_result"
    }
   ],
   "source": [
    "sample_data"
   ]
  },
  {
   "cell_type": "code",
   "execution_count": 16,
   "id": "8374de22",
   "metadata": {
    "execution": {
     "iopub.execute_input": "2025-02-25T04:39:26.565667Z",
     "iopub.status.busy": "2025-02-25T04:39:26.565457Z",
     "iopub.status.idle": "2025-02-25T04:39:26.569609Z",
     "shell.execute_reply": "2025-02-25T04:39:26.568899Z"
    },
    "papermill": {
     "duration": 0.010779,
     "end_time": "2025-02-25T04:39:26.570829",
     "exception": false,
     "start_time": "2025-02-25T04:39:26.560050",
     "status": "completed"
    },
    "tags": []
   },
   "outputs": [
    {
     "data": {
      "text/plain": [
       "(0.01301986980251962, 9.669427e-05)"
      ]
     },
     "execution_count": 16,
     "metadata": {},
     "output_type": "execute_result"
    }
   ],
   "source": [
    "threshold, min_error"
   ]
  },
  {
   "cell_type": "code",
   "execution_count": 17,
   "id": "c6b72cc6",
   "metadata": {
    "execution": {
     "iopub.execute_input": "2025-02-25T04:39:26.582001Z",
     "iopub.status.busy": "2025-02-25T04:39:26.581768Z",
     "iopub.status.idle": "2025-02-25T04:39:26.827554Z",
     "shell.execute_reply": "2025-02-25T04:39:26.826897Z"
    },
    "papermill": {
     "duration": 0.25262,
     "end_time": "2025-02-25T04:39:26.828774",
     "exception": false,
     "start_time": "2025-02-25T04:39:26.576154",
     "status": "completed"
    },
    "tags": []
   },
   "outputs": [],
   "source": [
    "avgAccuracy = 0.0\n",
    "allScores = []\n",
    "numReal = 0\n",
    "for i in range(len(df)):\n",
    "    sData = df.iloc[i].values\n",
    "    c = detect_anomaly(sData)\n",
    "    avgAccuracy = avgAccuracy + c\n",
    "    allScores.append(c)\n",
    "    if c > 0.5:\n",
    "        numReal = numReal + 1\n",
    "\n",
    "avgAccuracy = avgAccuracy / len(df)"
   ]
  },
  {
   "cell_type": "code",
   "execution_count": 18,
   "id": "ce7fdf9c",
   "metadata": {
    "execution": {
     "iopub.execute_input": "2025-02-25T04:39:26.840258Z",
     "iopub.status.busy": "2025-02-25T04:39:26.840041Z",
     "iopub.status.idle": "2025-02-25T04:39:26.844169Z",
     "shell.execute_reply": "2025-02-25T04:39:26.843386Z"
    },
    "papermill": {
     "duration": 0.011287,
     "end_time": "2025-02-25T04:39:26.845425",
     "exception": false,
     "start_time": "2025-02-25T04:39:26.834138",
     "status": "completed"
    },
    "tags": []
   },
   "outputs": [
    {
     "data": {
      "text/plain": [
       "474"
      ]
     },
     "execution_count": 18,
     "metadata": {},
     "output_type": "execute_result"
    }
   ],
   "source": [
    "numReal"
   ]
  },
  {
   "cell_type": "code",
   "execution_count": 19,
   "id": "cb108f8a",
   "metadata": {
    "execution": {
     "iopub.execute_input": "2025-02-25T04:39:26.856815Z",
     "iopub.status.busy": "2025-02-25T04:39:26.856611Z",
     "iopub.status.idle": "2025-02-25T04:39:26.860510Z",
     "shell.execute_reply": "2025-02-25T04:39:26.859908Z"
    },
    "papermill": {
     "duration": 0.010844,
     "end_time": "2025-02-25T04:39:26.861671",
     "exception": false,
     "start_time": "2025-02-25T04:39:26.850827",
     "status": "completed"
    },
    "tags": []
   },
   "outputs": [
    {
     "data": {
      "text/plain": [
       "500"
      ]
     },
     "execution_count": 19,
     "metadata": {},
     "output_type": "execute_result"
    }
   ],
   "source": [
    "len(df)"
   ]
  },
  {
   "cell_type": "code",
   "execution_count": 20,
   "id": "6aafe1bd",
   "metadata": {
    "execution": {
     "iopub.execute_input": "2025-02-25T04:39:26.873322Z",
     "iopub.status.busy": "2025-02-25T04:39:26.873123Z",
     "iopub.status.idle": "2025-02-25T04:39:26.877111Z",
     "shell.execute_reply": "2025-02-25T04:39:26.876472Z"
    },
    "papermill": {
     "duration": 0.010963,
     "end_time": "2025-02-25T04:39:26.878215",
     "exception": false,
     "start_time": "2025-02-25T04:39:26.867252",
     "status": "completed"
    },
    "tags": []
   },
   "outputs": [
    {
     "data": {
      "text/plain": [
       "'94.8% Acc'"
      ]
     },
     "execution_count": 20,
     "metadata": {},
     "output_type": "execute_result"
    }
   ],
   "source": [
    "f\"{(numReal / len(df)) * 100}% Acc\""
   ]
  },
  {
   "cell_type": "code",
   "execution_count": 21,
   "id": "79c99cfb",
   "metadata": {
    "execution": {
     "iopub.execute_input": "2025-02-25T04:39:26.889678Z",
     "iopub.status.busy": "2025-02-25T04:39:26.889480Z",
     "iopub.status.idle": "2025-02-25T04:39:26.894430Z",
     "shell.execute_reply": "2025-02-25T04:39:26.893644Z"
    },
    "papermill": {
     "duration": 0.011995,
     "end_time": "2025-02-25T04:39:26.895609",
     "exception": false,
     "start_time": "2025-02-25T04:39:26.883614",
     "status": "completed"
    },
    "tags": []
   },
   "outputs": [
    {
     "data": {
      "text/plain": [
       "['scaler.pkl']"
      ]
     },
     "execution_count": 21,
     "metadata": {},
     "output_type": "execute_result"
    }
   ],
   "source": [
    "import joblib\n",
    "joblib.dump(scaler, \"scaler.pkl\")"
   ]
  },
  {
   "cell_type": "code",
   "execution_count": null,
   "id": "1caec4f2",
   "metadata": {
    "papermill": {
     "duration": 0.005227,
     "end_time": "2025-02-25T04:39:26.906417",
     "exception": false,
     "start_time": "2025-02-25T04:39:26.901190",
     "status": "completed"
    },
    "tags": []
   },
   "outputs": [],
   "source": []
  }
 ],
 "metadata": {
  "kaggle": {
   "accelerator": "nvidiaTeslaT4",
   "dataSources": [
    {
     "datasetId": 6585891,
     "sourceId": 10663037,
     "sourceType": "datasetVersion"
    }
   ],
   "dockerImageVersionId": 30839,
   "isGpuEnabled": true,
   "isInternetEnabled": true,
   "language": "python",
   "sourceType": "notebook"
  },
  "kernelspec": {
   "display_name": "Python 3",
   "language": "python",
   "name": "python3"
  },
  "language_info": {
   "codemirror_mode": {
    "name": "ipython",
    "version": 3
   },
   "file_extension": ".py",
   "mimetype": "text/x-python",
   "name": "python",
   "nbconvert_exporter": "python",
   "pygments_lexer": "ipython3",
   "version": "3.10.12"
  },
  "papermill": {
   "default_parameters": {},
   "duration": 16.627281,
   "end_time": "2025-02-25T04:39:28.432319",
   "environment_variables": {},
   "exception": null,
   "input_path": "__notebook__.ipynb",
   "output_path": "__notebook__.ipynb",
   "parameters": {},
   "start_time": "2025-02-25T04:39:11.805038",
   "version": "2.6.0"
  }
 },
 "nbformat": 4,
 "nbformat_minor": 5
}
